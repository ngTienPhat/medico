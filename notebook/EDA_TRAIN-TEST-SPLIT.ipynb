{
 "cells": [
  {
   "cell_type": "code",
   "execution_count": 1,
   "metadata": {},
   "outputs": [],
   "source": [
    "import os \n",
    "import os.path as osp \n",
    "import glob \n",
    "import json\n",
    "import pandas as pd \n",
    "import numpy as np \n",
    "from sklearn.model_selection import train_test_split, KFold, StratifiedKFold\n",
    "\n",
    "import matplotlib.pyplot as plt\n",
    "%matplotlib inline\n",
    "\n",
    "WORKING_DIR = '/home/ntphat/projects/medico/medico'\n",
    "os.chdir(WORKING_DIR)\n",
    "\n",
    "DATA_DIR = 'data'\n",
    "BBOX_JSON = osp.join(DATA_DIR, 'kavsir_bboxes.json')\n",
    "bbox_js = json.load(open(BBOX_JSON))"
   ]
  },
  {
   "cell_type": "code",
   "execution_count": 2,
   "metadata": {},
   "outputs": [
    {
     "name": "stdout",
     "output_type": "stream",
     "text": [
      "{'height': 529, 'width': 622, 'bbox': [{'label': 'polyp', 'xmin': 38, 'ymin': 5, 'xmax': 430, 'ymax': 338}]}\n"
     ]
    }
   ],
   "source": [
    "sample_img = list(bbox_js.keys())[0]\n",
    "print(bbox_js[sample_img])"
   ]
  },
  {
   "cell_type": "code",
   "execution_count": 3,
   "metadata": {},
   "outputs": [
    {
     "data": {
      "text/html": [
       "<div>\n",
       "<style scoped>\n",
       "    .dataframe tbody tr th:only-of-type {\n",
       "        vertical-align: middle;\n",
       "    }\n",
       "\n",
       "    .dataframe tbody tr th {\n",
       "        vertical-align: top;\n",
       "    }\n",
       "\n",
       "    .dataframe thead th {\n",
       "        text-align: right;\n",
       "    }\n",
       "</style>\n",
       "<table border=\"1\" class=\"dataframe\">\n",
       "  <thead>\n",
       "    <tr style=\"text-align: right;\">\n",
       "      <th></th>\n",
       "      <th>image</th>\n",
       "      <th>nbox</th>\n",
       "      <th>height</th>\n",
       "      <th>width</th>\n",
       "      <th>box_detail</th>\n",
       "    </tr>\n",
       "  </thead>\n",
       "  <tbody>\n",
       "    <tr>\n",
       "      <th>0</th>\n",
       "      <td>cju0qkwl35piu0993l0dewei2</td>\n",
       "      <td>1</td>\n",
       "      <td>529</td>\n",
       "      <td>622</td>\n",
       "      <td>[{'label': 'polyp', 'xmin': 38, 'ymin': 5, 'xm...</td>\n",
       "    </tr>\n",
       "    <tr>\n",
       "      <th>1</th>\n",
       "      <td>cju0qoxqj9q6s0835b43399p4</td>\n",
       "      <td>1</td>\n",
       "      <td>1070</td>\n",
       "      <td>1348</td>\n",
       "      <td>[{'label': 'polyp', 'xmin': 194, 'ymin': 284, ...</td>\n",
       "    </tr>\n",
       "    <tr>\n",
       "      <th>2</th>\n",
       "      <td>cju0qx73cjw570799j4n5cjze</td>\n",
       "      <td>1</td>\n",
       "      <td>529</td>\n",
       "      <td>619</td>\n",
       "      <td>[{'label': 'polyp', 'xmin': 187, 'ymin': 14, '...</td>\n",
       "    </tr>\n",
       "    <tr>\n",
       "      <th>3</th>\n",
       "      <td>cju0roawvklrq0799vmjorwfv</td>\n",
       "      <td>3</td>\n",
       "      <td>528</td>\n",
       "      <td>622</td>\n",
       "      <td>[{'label': 'polyp', 'xmin': 486, 'ymin': 42, '...</td>\n",
       "    </tr>\n",
       "    <tr>\n",
       "      <th>4</th>\n",
       "      <td>cju0rx1idathl0835detmsp84</td>\n",
       "      <td>1</td>\n",
       "      <td>528</td>\n",
       "      <td>617</td>\n",
       "      <td>[{'label': 'polyp', 'xmin': 292, 'ymin': 154, ...</td>\n",
       "    </tr>\n",
       "  </tbody>\n",
       "</table>\n",
       "</div>"
      ],
      "text/plain": [
       "                       image  nbox  height  width  \\\n",
       "0  cju0qkwl35piu0993l0dewei2     1     529    622   \n",
       "1  cju0qoxqj9q6s0835b43399p4     1    1070   1348   \n",
       "2  cju0qx73cjw570799j4n5cjze     1     529    619   \n",
       "3  cju0roawvklrq0799vmjorwfv     3     528    622   \n",
       "4  cju0rx1idathl0835detmsp84     1     528    617   \n",
       "\n",
       "                                          box_detail  \n",
       "0  [{'label': 'polyp', 'xmin': 38, 'ymin': 5, 'xm...  \n",
       "1  [{'label': 'polyp', 'xmin': 194, 'ymin': 284, ...  \n",
       "2  [{'label': 'polyp', 'xmin': 187, 'ymin': 14, '...  \n",
       "3  [{'label': 'polyp', 'xmin': 486, 'ymin': 42, '...  \n",
       "4  [{'label': 'polyp', 'xmin': 292, 'ymin': 154, ...  "
      ]
     },
     "execution_count": 3,
     "metadata": {},
     "output_type": "execute_result"
    }
   ],
   "source": [
    "data = {\n",
    "    'image': [],\n",
    "    'nbox': [],\n",
    "    'height': [],\n",
    "    'width': [],\n",
    "    'box_detail': [],\n",
    "}\n",
    "for img_name in bbox_js.keys():\n",
    "    data['image'].append(img_name)\n",
    "    value = bbox_js[img_name]\n",
    "    data['nbox'].append(len(value['bbox']))\n",
    "    data['height'].append(value['height'])\n",
    "    data['width'].append(value['width'])\n",
    "    data['box_detail'].append(value['bbox'])\n",
    "\n",
    "total_df = pd.DataFrame.from_dict(data)\n",
    "total_df.head()"
   ]
  },
  {
   "cell_type": "markdown",
   "metadata": {},
   "source": [
    "# EDA"
   ]
  },
  {
   "cell_type": "code",
   "execution_count": 4,
   "metadata": {},
   "outputs": [
    {
     "data": {
      "text/plain": [
       "1     945\n",
       "2      47\n",
       "3       6\n",
       "10      1\n",
       "4       1\n",
       "Name: nbox, dtype: int64"
      ]
     },
     "execution_count": 4,
     "metadata": {},
     "output_type": "execute_result"
    }
   ],
   "source": [
    "import seaborn as sns\n",
    "\n",
    "total_df.nbox.value_counts()"
   ]
  },
  {
   "cell_type": "code",
   "execution_count": 5,
   "metadata": {},
   "outputs": [],
   "source": [
    "total_df.to_csv(osp.join(DATA_DIR, 'bboxes.csv'), index=False)"
   ]
  },
  {
   "cell_type": "code",
   "execution_count": 6,
   "metadata": {},
   "outputs": [
    {
     "name": "stderr",
     "output_type": "stream",
     "text": [
      "/opt/anaconda3/envs/ntp/lib/python3.6/site-packages/seaborn/distributions.py:2551: FutureWarning: `distplot` is a deprecated function and will be removed in a future version. Please adapt your code to use either `displot` (a figure-level function with similar flexibility) or `histplot` (an axes-level function for histograms).\n",
      "  warnings.warn(msg, FutureWarning)\n"
     ]
    },
    {
     "data": {
      "text/plain": [
       "<AxesSubplot:xlabel='height', ylabel='Density'>"
      ]
     },
     "execution_count": 6,
     "metadata": {},
     "output_type": "execute_result"
    },
    {
     "data": {
      "image/png": "[encoded data removed]",
      "text/plain": [
       "<Figure size 432x288 with 1 Axes>"
      ]
     },
     "metadata": {
      "needs_background": "light"
     },
     "output_type": "display_data"
    }
   ],
   "source": [
    "sns.distplot(total_df.height)"
   ]
  },
  {
   "cell_type": "code",
   "execution_count": 7,
   "metadata": {},
   "outputs": [
    {
     "name": "stderr",
     "output_type": "stream",
     "text": [
      "/opt/anaconda3/envs/ntp/lib/python3.6/site-packages/seaborn/distributions.py:2551: FutureWarning: `distplot` is a deprecated function and will be removed in a future version. Please adapt your code to use either `displot` (a figure-level function with similar flexibility) or `histplot` (an axes-level function for histograms).\n",
      "  warnings.warn(msg, FutureWarning)\n"
     ]
    },
    {
     "data": {
      "text/plain": [
       "<AxesSubplot:xlabel='width', ylabel='Density'>"
      ]
     },
     "execution_count": 7,
     "metadata": {},
     "output_type": "execute_result"
    },
    {
     "data": {
      "image/png": "[encoded data removed]",
      "text/plain": [
       "<Figure size 432x288 with 1 Axes>"
      ]
     },
     "metadata": {
      "needs_background": "light"
     },
     "output_type": "display_data"
    }
   ],
   "source": [
    "sns.distplot(total_df.width)"
   ]
  },
  {
   "cell_type": "markdown",
   "metadata": {},
   "source": [
    "# Dataset 1: \n",
    "train: only 1 box"
   ]
  },
  {
   "cell_type": "code",
   "execution_count": 8,
   "metadata": {},
   "outputs": [
    {
     "name": "stdout",
     "output_type": "stream",
     "text": [
      "850\n",
      "150\n"
     ]
    }
   ],
   "source": [
    "total_df= pd.read_csv(osp.join(DATA_DIR, 'bboxes.csv'))\n",
    "val_size=.1\n",
    "train_ids, val_ids = [], []\n",
    "\n",
    "train_1_box, val_1_box = train_test_split(total_df[total_df.nbox==1].index, test_size=val_size)\n",
    "train_ids.extend(train_1_box)\n",
    "val_ids.extend(val_1_box)\n",
    "\n",
    "# add all sample that have more than 1 box to val set\n",
    "val_ids.extend(total_df[total_df.nbox!=1].index)\n",
    "\n",
    "train_df = total_df.loc[train_ids]\n",
    "val_df = total_df.loc[val_ids]\n",
    "\n",
    "print(len(train_df))\n",
    "print(len(val_df))\n",
    "\n",
    "train_df.to_csv(osp.join(DATA_DIR, 'train.csv'), index=False)\n",
    "val_df.to_csv(osp.join(DATA_DIR, 'val.csv'), index=False)"
   ]
  },
  {
   "cell_type": "markdown",
   "metadata": {},
   "source": [
    "# Dataset 2:\n",
    "train: 1 and 2 box"
   ]
  },
  {
   "cell_type": "code",
   "execution_count": 6,
   "metadata": {},
   "outputs": [
    {
     "name": "stdout",
     "output_type": "stream",
     "text": [
      "892\n",
      "108\n"
     ]
    }
   ],
   "source": [
    "total_df= pd.read_csv(osp.join(DATA_DIR, 'bboxes.csv'))\n",
    "val_size=.1\n",
    "train_ids, val_ids = [], []\n",
    "\n",
    "train_1_box, val_1_box = train_test_split(total_df[total_df.nbox==1].index, test_size=val_size)\n",
    "train_2_box, val_2_box = train_test_split(total_df[total_df.nbox==2].index, test_size=val_size)\n",
    "\n",
    "train_ids.extend(train_1_box)\n",
    "train_ids.extend(train_2_box)\n",
    "\n",
    "val_ids.extend(val_1_box)\n",
    "val_ids.extend(val_2_box)\n",
    "\n",
    "\n",
    "# add all sample that have more than 1 box to val set\n",
    "val_ids.extend(total_df[total_df.nbox > 2].index)\n",
    "\n",
    "\n",
    "train_df = total_df.loc[train_ids]\n",
    "val_df = total_df.loc[val_ids]\n",
    "\n",
    "print(len(train_df))\n",
    "print(len(val_df))\n",
    "\n",
    "train_df.to_csv(osp.join(DATA_DIR, 'train2.csv'), index=False)\n",
    "val_df.to_csv(osp.join(DATA_DIR, 'val2.csv'), index=False)"
   ]
  },
  {
   "cell_type": "markdown",
   "metadata": {},
   "source": [
    "# Dataset 3\n",
    "Train test split with test_size = 0.8"
   ]
  },
  {
   "cell_type": "code",
   "execution_count": 6,
   "metadata": {},
   "outputs": [
    {
     "name": "stdout",
     "output_type": "stream",
     "text": [
      "800\n",
      "200\n"
     ]
    }
   ],
   "source": [
    "total_df= pd.read_csv(osp.join(DATA_DIR, 'bboxes.csv'))\n",
    "val_size= 0.2\n",
    "train_ids, val_ids = train_test_split(total_df.index, test_size=val_size)\n",
    "\n",
    "train_df = total_df.loc[train_ids]\n",
    "val_df = total_df.loc[val_ids]\n",
    "\n",
    "print(len(train_df))\n",
    "print(len(val_df))\n",
    "\n",
    "train_df.to_csv(osp.join(DATA_DIR, 'train3.csv'), index=False)\n",
    "val_df.to_csv(osp.join(DATA_DIR, 'val3.csv'), index=False)"
   ]
  },
  {
   "cell_type": "markdown",
   "metadata": {},
   "source": [
    "# Dataset 4\n",
    "\n",
    "Mr. Cong's split\n",
    "\n",
    "random_state=2020"
   ]
  },
  {
   "cell_type": "code",
   "execution_count": 4,
   "metadata": {},
   "outputs": [
    {
     "name": "stdout",
     "output_type": "stream",
     "text": [
      "800\n",
      "200\n"
     ]
    }
   ],
   "source": [
    "total_df= pd.read_csv(osp.join(DATA_DIR, 'bboxes.csv'))\n",
    "val_size= 0.2\n",
    "train_ids, val_ids = train_test_split(total_df.index, test_size=val_size, random_state=2020)\n",
    "\n",
    "train_df = total_df.loc[train_ids]\n",
    "val_df = total_df.loc[val_ids]\n",
    "\n",
    "print(len(train_df))\n",
    "print(len(val_df))\n",
    "\n",
    "train_df.to_csv(osp.join(DATA_DIR, 'train4.csv'), index=False)\n",
    "val_df.to_csv(osp.join(DATA_DIR, 'val4.csv'), index=False)"
   ]
  },
  {
   "cell_type": "markdown",
   "metadata": {},
   "source": [
    "# DATASET 5:\n",
    "k-fold with test_size = 0.1 --> to ensemble for final result\n"
   ]
  },
  {
   "cell_type": "code",
   "execution_count": 15,
   "metadata": {},
   "outputs": [
    {
     "name": "stderr",
     "output_type": "stream",
     "text": [
      "/opt/anaconda3/envs/ntp/lib/python3.6/site-packages/sklearn/model_selection/_split.py:672: UserWarning: The least populated class in y has only 1 members, which is less than n_splits=10.\n",
      "  % (min_groups, self.n_splits)), UserWarning)\n"
     ]
    }
   ],
   "source": [
    "splits = 10 # because we use 10% of train data to test\n",
    "skf = StratifiedKFold(n_splits=splits)\n",
    "save_dir = osp.join(DATA_DIR, f'KFold_{splits}')\n",
    "os.makedirs(save_dir, exist_ok=True)\n",
    "X, y = total_df, total_df['nbox']\n",
    "for i, (train_idx, test_idx) in enumerate(skf.split(X, y)):\n",
    "    X_train, X_test = total_df.loc[train_idx].reset_index(drop=True), total_df.loc[test_idx].reset_index(drop=True)\n",
    "    y_train, y_test = y.loc[train_idx], y.loc[test_idx]    \n",
    "    \n",
    "    X_train.to_csv(osp.join(save_dir, f\"train_{i+1}.csv\"), index=False)\n",
    "    X_test.to_csv(osp.join(save_dir, f\"val_{i+1}.csv\"), index=False)    "
   ]
  },
  {
   "cell_type": "code",
   "execution_count": null,
   "metadata": {},
   "outputs": [],
   "source": []
  }
 ],
 "metadata": {
  "kernelspec": {
   "display_name": "Python 3",
   "language": "python",
   "name": "python3"
  },
  "language_info": {
   "codemirror_mode": {
    "name": "ipython",
    "version": 3
   },
   "file_extension": ".py",
   "mimetype": "text/x-python",
   "name": "python",
   "nbconvert_exporter": "python",
   "pygments_lexer": "ipython3",
   "version": "3.6.10"
  }
 },
 "nbformat": 4,
 "nbformat_minor": 4
}
