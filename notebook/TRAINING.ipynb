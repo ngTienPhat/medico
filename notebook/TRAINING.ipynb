{
 "cells": [
  {
   "cell_type": "code",
   "execution_count": null,
   "metadata": {},
   "outputs": [],
   "source": [
    "%cd '../'"
   ]
  },
  {
   "cell_type": "code",
   "execution_count": 1,
   "metadata": {
    "colab": {},
    "colab_type": "code",
    "executionInfo": {
     "elapsed": 765,
     "status": "ok",
     "timestamp": 1599818285140,
     "user": {
      "displayName": "Tien-Phat Nguyen",
      "photoUrl": "https://lh3.googleusercontent.com/a-/AOh14GgHbb6oLnxQJPkbdOAi3mVYWLXRsdWAPgeilm-9o-M=s64",
      "userId": "18235721125998102323"
     },
     "user_tz": -420
    },
    "id": "J8UDtLyJNz8x"
   },
   "outputs": [],
   "source": []
  }
 ],
 "metadata": {
  "accelerator": "GPU",
  "colab": {
   "authorship_tag": "ABX9TyMpEFvTA7M+4ZhwPqq4FNvX",
   "collapsed_sections": [],
   "mount_file_id": "1gDAARWWSuC3ttBT7Jeto62jrmGjC_xRN",
   "name": "TRAINING.ipynb",
   "provenance": []
  },
  "kernelspec": {
   "display_name": "Python 3",
   "language": "python",
   "name": "python3"
  },
  "language_info": {
   "codemirror_mode": {
    "name": "ipython",
    "version": 3
   },
   "file_extension": ".py",
   "mimetype": "text/x-python",
   "name": "python",
   "nbconvert_exporter": "python",
   "pygments_lexer": "ipython3",
   "version": "3.6.10"
  }
 },
 "nbformat": 4,
 "nbformat_minor": 4
}
